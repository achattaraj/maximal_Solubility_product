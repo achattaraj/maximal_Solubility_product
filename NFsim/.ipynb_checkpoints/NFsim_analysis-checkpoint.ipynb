{
 "cells": [
  {
   "cell_type": "markdown",
   "id": "4bd9bad4",
   "metadata": {},
   "source": [
    "# Data analysis of NFsim output\n",
    "<br>\n",
    "Author: Aniruddha Chattaraj\n",
    "\n",
    "NFsim is an open source stochastic simulator for rule based modeling of biochemical systems http://michaelsneddon.net/nfsim/.\n",
    "It is integrated within Virtual Cell (https://vcell.org/) framework which enables the users to build complex models using a graphical interface and run simulations using different kinds of solvers apart from NFsim. <br>\n",
    "\n",
    "This tutorial assumes that we already have some simulated data and we want to analyze the results. <br>\n",
    "\n",
    "We specify the model using the graphical interface of Virtual Cell in bngl (BioNetGen Language) format and run multiple trials of a given simulation condition using the high performance facility at UConn Health https://health.uconn.edu/high-performance-computing/. Next, to analyze the results, we execute the following python routines. All the packages are managed by Anaconda distributor. "
   ]
  },
  {
   "cell_type": "markdown",
   "id": "7c5d5244",
   "metadata": {},
   "source": [
    "### Import packages and specify the simulation path\n",
    "\n",
    "- Import the relevant packages first. Currently we have to place the files in the same directory as the notebook. It will be bundled together in near future to automate the depenedency management.\n",
    "- Specify the full path of the simulation results. For example, let's say, we run 100 stochastic trials of \"myModel_conc_60uM.bngl\" and the directory \"myModel_conc_60uM\" contains all those results. In this case, absolute path of \"myModel_conc_60uM\" needs to be specified.  \n",
    "<br> \n",
    "\n",
    "Note: NFsim simulation with \"cb\" flag does not allow intra-cluster binding (ICB), where \"cb\" stands for complex-bookkeeping. \n",
    "<br>"
   ]
  },
  {
   "cell_type": "code",
   "execution_count": 9,
   "id": "67df93b2",
   "metadata": {},
   "outputs": [
    {
     "ename": "TypeError",
     "evalue": "reload() argument must be a module",
     "output_type": "error",
     "traceback": [
      "\u001b[1;31m---------------------------------------------------------------------------\u001b[0m",
      "\u001b[1;31mTypeError\u001b[0m                                 Traceback (most recent call last)",
      "\u001b[1;32m~\\AppData\\Local\\Temp\\ipykernel_14756\\1550758902.py\u001b[0m in \u001b[0;36m<module>\u001b[1;34m\u001b[0m\n\u001b[0;32m      5\u001b[0m \u001b[1;32mfrom\u001b[0m \u001b[0mimportlib\u001b[0m \u001b[1;32mimport\u001b[0m \u001b[0mreload\u001b[0m\u001b[1;33m\u001b[0m\u001b[1;33m\u001b[0m\u001b[0m\n\u001b[0;32m      6\u001b[0m \u001b[1;31m# reload includes the changes in the custom classes while re-running\u001b[0m\u001b[1;33m\u001b[0m\u001b[1;33m\u001b[0m\u001b[0m\n\u001b[1;32m----> 7\u001b[1;33m \u001b[0mreload\u001b[0m\u001b[1;33m(\u001b[0m\u001b[0mBoundFraction_NFsim\u001b[0m\u001b[1;33m)\u001b[0m\u001b[1;33m\u001b[0m\u001b[1;33m\u001b[0m\u001b[0m\n\u001b[0m\u001b[0;32m      8\u001b[0m \u001b[0mreload\u001b[0m\u001b[1;33m(\u001b[0m\u001b[0mNFSim_output_analyzer\u001b[0m\u001b[1;33m)\u001b[0m\u001b[1;33m\u001b[0m\u001b[1;33m\u001b[0m\u001b[0m\n\u001b[0;32m      9\u001b[0m \u001b[1;33m\u001b[0m\u001b[0m\n",
      "\u001b[1;32m~\\anaconda3\\lib\\importlib\\__init__.py\u001b[0m in \u001b[0;36mreload\u001b[1;34m(module)\u001b[0m\n\u001b[0;32m    138\u001b[0m     \"\"\"\n\u001b[0;32m    139\u001b[0m     \u001b[1;32mif\u001b[0m \u001b[1;32mnot\u001b[0m \u001b[0mmodule\u001b[0m \u001b[1;32mor\u001b[0m \u001b[1;32mnot\u001b[0m \u001b[0misinstance\u001b[0m\u001b[1;33m(\u001b[0m\u001b[0mmodule\u001b[0m\u001b[1;33m,\u001b[0m \u001b[0mtypes\u001b[0m\u001b[1;33m.\u001b[0m\u001b[0mModuleType\u001b[0m\u001b[1;33m)\u001b[0m\u001b[1;33m:\u001b[0m\u001b[1;33m\u001b[0m\u001b[1;33m\u001b[0m\u001b[0m\n\u001b[1;32m--> 140\u001b[1;33m         \u001b[1;32mraise\u001b[0m \u001b[0mTypeError\u001b[0m\u001b[1;33m(\u001b[0m\u001b[1;34m\"reload() argument must be a module\"\u001b[0m\u001b[1;33m)\u001b[0m\u001b[1;33m\u001b[0m\u001b[1;33m\u001b[0m\u001b[0m\n\u001b[0m\u001b[0;32m    141\u001b[0m     \u001b[1;32mtry\u001b[0m\u001b[1;33m:\u001b[0m\u001b[1;33m\u001b[0m\u001b[1;33m\u001b[0m\u001b[0m\n\u001b[0;32m    142\u001b[0m         \u001b[0mname\u001b[0m \u001b[1;33m=\u001b[0m \u001b[0mmodule\u001b[0m\u001b[1;33m.\u001b[0m\u001b[0m__spec__\u001b[0m\u001b[1;33m.\u001b[0m\u001b[0mname\u001b[0m\u001b[1;33m\u001b[0m\u001b[1;33m\u001b[0m\u001b[0m\n",
      "\u001b[1;31mTypeError\u001b[0m: reload() argument must be a module"
     ]
    }
   ],
   "source": [
    "# import packages\n",
    "from NFsimAnalyzer import NFSim_output_analyzer \n",
    "from bound_fraction_nfsim import BoundFraction_NFsim\n",
    "from plotNFsim_data import *\n",
    "\n",
    "# specify the path\n",
    "path = './test_dataset/FTC_A5_B5_60uM_wo_cb'\n",
    "\n",
    "# Name of the molecules present in the system\n",
    "molecules = ['poly_A', 'poly_B']\n",
    "\n",
    "# valency (number of binding sites)\n",
    "valency = [5, 5]"
   ]
  },
  {
   "cell_type": "markdown",
   "id": "a434475a",
   "metadata": {},
   "source": [
    "### Collect statistics across multiple stochastic runs\n",
    "- Compute the free molecular concentrations\n",
    "- Collect the clusters and compute the distribution"
   ]
  },
  {
   "cell_type": "code",
   "execution_count": null,
   "id": "cf0e9958",
   "metadata": {},
   "outputs": [],
   "source": [
    "# process gdat and species files \n",
    "nfs_obj = NFSim_output_analyzer(path)\n",
    "print(nfs_obj)\n",
    "nfs_obj.process_gdatfiles(m2cf_div=10,saveDist=False,printProgress=True)\n",
    "nfs_obj.process_speciesfiles(molecules,calcRatio=False,printProgress=True)\n",
    "\n",
    "plotFreeConc(path)\n",
    "plotClusterDistribution(path)"
   ]
  },
  {
   "cell_type": "code",
   "execution_count": null,
   "id": "f36a73c2",
   "metadata": {},
   "outputs": [],
   "source": [
    "# process species files to extract binding saturations of individual clusters\n",
    "bf_nfs = BoundFraction_NFsim(path, binding_sites=valency, molecules=molecules)\n",
    "print(bf_nfs) \n",
    "print()\n",
    "bf_nfs.get_boundFraction(saveIt=True)\n",
    "bf_nfs.plotBFpattern()"
   ]
  },
  {
   "cell_type": "code",
   "execution_count": null,
   "id": "4b566000",
   "metadata": {},
   "outputs": [],
   "source": []
  }
 ],
 "metadata": {
  "kernelspec": {
   "display_name": "Python 3 (ipykernel)",
   "language": "python",
   "name": "python3"
  },
  "language_info": {
   "codemirror_mode": {
    "name": "ipython",
    "version": 3
   },
   "file_extension": ".py",
   "mimetype": "text/x-python",
   "name": "python",
   "nbconvert_exporter": "python",
   "pygments_lexer": "ipython3",
   "version": "3.9.12"
  }
 },
 "nbformat": 4,
 "nbformat_minor": 5
}
